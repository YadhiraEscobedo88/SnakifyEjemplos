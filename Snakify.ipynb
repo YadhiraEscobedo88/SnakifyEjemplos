{
 "cells": [
  {
   "cell_type": "code",
   "execution_count": 1,
   "metadata": {},
   "outputs": [
    {
     "name": "stdout",
     "output_type": "stream",
     "text": [
      "6\n",
      "120\n"
     ]
    }
   ],
   "source": [
    "#Nuevos Aprendizajes (Cosas que no sabia antes)\n",
    "\n",
    "def factorial(n):\n",
    "    res = 1\n",
    "    for i in range(1, n + 1):\n",
    "        res *= i\n",
    "    return res\n",
    "\n",
    "print(factorial(3))\n",
    "print(factorial(5))"
   ]
  },
  {
   "cell_type": "code",
   "execution_count": 2,
   "metadata": {},
   "outputs": [
    {
     "name": "stdout",
     "output_type": "stream",
     "text": [
      "[1, 2, 3]\n",
      "[4, 5, 6]\n",
      "[1, 2, 3]\n",
      "3\n",
      "[[1, 7, 3], [4, 5, 6]]\n",
      "[1, 7, 3]\n",
      "[1, 7, 9]\n",
      "[1, 7, 9]\n"
     ]
    }
   ],
   "source": [
    "#Arreglos\n",
    "a = [[1, 2, 3], [4, 5, 6]]\n",
    "print(a[0])\n",
    "print(a[1])\n",
    "b = a[0]\n",
    "print(b)\n",
    "print(a[0][2])\n",
    "a[0][1] = 7\n",
    "print(a)\n",
    "print(b)\n",
    "b[2] = 9\n",
    "print(a[0])\n",
    "print(b)"
   ]
  },
  {
   "cell_type": "code",
   "execution_count": 3,
   "metadata": {},
   "outputs": [
    {
     "name": "stdout",
     "output_type": "stream",
     "text": [
      "{'r', 'w', 'q', 't', 'y', 'e'}\n"
     ]
    }
   ],
   "source": [
    "#Definicion de Conjuntos\n",
    "A = {1, 2, 3}\n",
    "A = set('qwerty')\n",
    "print(A)"
   ]
  },
  {
   "cell_type": "code",
   "execution_count": 4,
   "metadata": {},
   "outputs": [
    {
     "name": "stdout",
     "output_type": "stream",
     "text": [
      "2\n",
      "3\n",
      "5\n",
      "7\n",
      "11\n"
     ]
    }
   ],
   "source": [
    "#Operaciones con elementos\n",
    "primes = {2, 3, 5, 7, 11}\n",
    "for num in primes:\n",
    "    print(num)"
   ]
  },
  {
   "cell_type": "code",
   "execution_count": null,
   "metadata": {},
   "outputs": [],
   "source": []
  }
 ],
 "metadata": {
  "kernelspec": {
   "display_name": "Python 3",
   "language": "python",
   "name": "python3"
  },
  "language_info": {
   "codemirror_mode": {
    "name": "ipython",
    "version": 3
   },
   "file_extension": ".py",
   "mimetype": "text/x-python",
   "name": "python",
   "nbconvert_exporter": "python",
   "pygments_lexer": "ipython3",
   "version": "3.6.5"
  }
 },
 "nbformat": 4,
 "nbformat_minor": 2
}
